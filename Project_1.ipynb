{
  "nbformat": 4,
  "nbformat_minor": 0,
  "metadata": {
    "colab": {
      "provenance": [],
      "authorship_tag": "ABX9TyP/aY9Erya0hyGZ7jAMjAMi",
      "include_colab_link": true
    },
    "kernelspec": {
      "name": "python3",
      "display_name": "Python 3"
    },
    "language_info": {
      "name": "python"
    }
  },
  "cells": [
    {
      "cell_type": "markdown",
      "metadata": {
        "id": "view-in-github",
        "colab_type": "text"
      },
      "source": [
        "<a href=\"https://colab.research.google.com/github/ksayin/Data_Projects/blob/main/Project_1.ipynb\" target=\"_parent\"><img src=\"https://colab.research.google.com/assets/colab-badge.svg\" alt=\"Open In Colab\"/></a>"
      ]
    },
    {
      "cell_type": "code",
      "execution_count": 28,
      "metadata": {
        "colab": {
          "base_uri": "https://localhost:8080/"
        },
        "id": "HKqMAcsM6Cbn",
        "outputId": "7b4b7d97-5ea0-4194-b94c-1b24cb2561ff"
      },
      "outputs": [
        {
          "output_type": "stream",
          "name": "stdout",
          "text": [
            "On branch working\n",
            "nothing to commit, working tree clean\n",
            "remote: Support for password authentication was removed on August 13, 2021.\n",
            "remote: Please see https://docs.github.com/get-started/getting-started-with-git/about-remote-repositories#cloning-with-https-urls for information on currently recommended modes of authentication.\n",
            "fatal: Authentication failed for 'https://github.com/ksayin/Data_Projects.git/'\n",
            "remote: Support for password authentication was removed on August 13, 2021.\n",
            "remote: Please see https://docs.github.com/get-started/getting-started-with-git/about-remote-repositories#cloning-with-https-urls for information on currently recommended modes of authentication.\n",
            "fatal: Authentication failed for 'https://github.com/ksayin/Data_Projects.git/'\n"
          ]
        }
      ],
      "source": [
        "!git commit -m \"Some test changes have been made\"\n",
        "!git push origin working\n",
        "!git push --set-upstream origin working\n",
        "\n"
      ]
    },
    {
      "cell_type": "code",
      "source": [
        "#ladida this is a test"
      ],
      "metadata": {
        "id": "4e9DUBcH9Yl1"
      },
      "execution_count": 25,
      "outputs": []
    }
  ]
}